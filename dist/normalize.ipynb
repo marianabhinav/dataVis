{
 "cells": [
  {
   "cell_type": "code",
   "execution_count": 1,
   "metadata": {},
   "outputs": [],
   "source": [
    "import pandas as pd\n",
    "import seaborn as sns\n",
    "from sklearn import preprocessing\n",
    "from sklearn.cluster import KMeans\n",
    "import os"
   ]
  },
  {
   "cell_type": "code",
   "execution_count": 78,
   "metadata": {},
   "outputs": [
    {
     "name": "stdout",
     "output_type": "stream",
     "text": [
      "Enter File Destination: \n",
      "C:\\Users\\Abhinav\\Documents\\Study\\3rdSem\\datavis\\Assignments\\Datasets\\mtcars.csv\n",
      "    mpg  cyl   disp   hp  drat     wt   qsec  vs  am  gear  carb\n",
      "0  21.0    6  160.0  110  3.90  2.620  16.46   0   1     4     4\n",
      "1  21.0    6  160.0  110  3.90  2.875  17.02   0   1     4     4\n",
      "2  22.8    4  108.0   93  3.85  2.320  18.61   1   1     4     1\n",
      "3  21.4    6  258.0  110  3.08  3.215  19.44   1   0     3     1\n",
      "4  18.7    8  360.0  175  3.15  3.440  17.02   0   0     3     2\n"
     ]
    }
   ],
   "source": [
    "## OPEN FILE ##\n",
    "filePath = input(\"Enter File Destination: \\n\")\n",
    "df = pd.read_csv(filePath)\n",
    "print(df.head(5))"
   ]
  },
  {
   "cell_type": "code",
   "execution_count": 79,
   "metadata": {},
   "outputs": [
    {
     "name": "stdout",
     "output_type": "stream",
     "text": [
      "    mpg  cyl   disp   hp  drat     wt   qsec  vs  am  gear  carb\n",
      "0  21.0    6  160.0  110  3.90  2.620  16.46   0   1     4     4\n",
      "1  21.0    6  160.0  110  3.90  2.875  17.02   0   1     4     4\n",
      "2  22.8    4  108.0   93  3.85  2.320  18.61   1   1     4     1\n",
      "3  21.4    6  258.0  110  3.08  3.215  19.44   1   0     3     1\n",
      "4  18.7    8  360.0  175  3.15  3.440  17.02   0   0     3     2\n"
     ]
    }
   ],
   "source": [
    "## PREPROCESSING ##\n",
    "if 'id' in df.columns:\n",
    "\tdel df['id']\n",
    "print(df.head(5))"
   ]
  },
  {
   "cell_type": "code",
   "execution_count": 80,
   "metadata": {},
   "outputs": [],
   "source": [
    "## NORMALIZE ##\n",
    "X_norm = preprocessing.normalize(df)\n",
    "col_names = list(df.columns)"
   ]
  },
  {
   "cell_type": "code",
   "execution_count": 81,
   "metadata": {},
   "outputs": [],
   "source": [
    "## k-means clustering\n",
    "kmeans = KMeans(n_clusters = 3, random_state = 0).fit(X_norm)\n",
    "labels = kmeans.labels_"
   ]
  },
  {
   "cell_type": "code",
   "execution_count": 82,
   "metadata": {},
   "outputs": [
    {
     "name": "stdout",
     "output_type": "stream",
     "text": [
      "        mpg       cyl      disp        hp      drat        wt      qsec  \\\n",
      "0  0.107022  0.030578  0.815404  0.560590  0.019875  0.013352  0.083885   \n",
      "1  0.106994  0.030570  0.815190  0.560443  0.019870  0.014648  0.086716   \n",
      "2  0.156464  0.027450  0.741146  0.638209  0.026420  0.015921  0.127711   \n",
      "3  0.075866  0.021271  0.914648  0.389966  0.010919  0.011398  0.068918   \n",
      "4  0.046610  0.019940  0.897303  0.436189  0.007851  0.008574  0.042423   \n",
      "\n",
      "         vs        am      gear      carb  class  \n",
      "0  0.000000  0.005096  0.020385  0.020385      0  \n",
      "1  0.000000  0.005095  0.020380  0.020380      0  \n",
      "2  0.006862  0.006862  0.027450  0.006862      1  \n",
      "3  0.003545  0.000000  0.010635  0.003545      2  \n",
      "4  0.000000  0.000000  0.007478  0.004985      2  \n",
      "C:\\Users\\Abhinav\\Documents\\Study\\3rdSem\\datavis\\Assignments\\1\\mtcars_norm.csv\n"
     ]
    }
   ],
   "source": [
    "## create CSV\n",
    "df = pd.DataFrame(X_norm)\n",
    "df.columns = col_names\n",
    "df['class'] = labels\n",
    "print(df.head(5))\n",
    "\n",
    "parts = filePath.split(os.sep)\n",
    "file = parts[-1].split(\".\")\n",
    "fileName = file[0] + \"_norm.csv\"\n",
    "parts[-1] = fileName\n",
    "finalPath = os.path.join(os.getcwd(), fileName)\n",
    "print(finalPath)\n",
    "\n",
    "#save file\n",
    "file = df.to_csv(finalPath)"
   ]
  },
  {
   "cell_type": "code",
   "execution_count": null,
   "metadata": {},
   "outputs": [],
   "source": []
  }
 ],
 "metadata": {
  "kernelspec": {
   "display_name": "Python 3",
   "language": "python",
   "name": "python3"
  },
  "language_info": {
   "codemirror_mode": {
    "name": "ipython",
    "version": 3
   },
   "file_extension": ".py",
   "mimetype": "text/x-python",
   "name": "python",
   "nbconvert_exporter": "python",
   "pygments_lexer": "ipython3",
   "version": "3.8.3-final"
  }
 },
 "nbformat": 4,
 "nbformat_minor": 4
}